{
 "cells": [
  {
   "cell_type": "code",
   "execution_count": 1,
   "id": "6f168855",
   "metadata": {},
   "outputs": [
    {
     "name": "stderr",
     "output_type": "stream",
     "text": [
      "/home/jwrickman/.local/lib/python3.6/site-packages/tensorflow/python/framework/dtypes.py:519: FutureWarning: Passing (type, 1) or '1type' as a synonym of type is deprecated; in a future version of numpy, it will be understood as (type, (1,)) / '(1,)type'.\n",
      "  _np_qint8 = np.dtype([(\"qint8\", np.int8, 1)])\n",
      "/home/jwrickman/.local/lib/python3.6/site-packages/tensorflow/python/framework/dtypes.py:520: FutureWarning: Passing (type, 1) or '1type' as a synonym of type is deprecated; in a future version of numpy, it will be understood as (type, (1,)) / '(1,)type'.\n",
      "  _np_quint8 = np.dtype([(\"quint8\", np.uint8, 1)])\n",
      "/home/jwrickman/.local/lib/python3.6/site-packages/tensorflow/python/framework/dtypes.py:521: FutureWarning: Passing (type, 1) or '1type' as a synonym of type is deprecated; in a future version of numpy, it will be understood as (type, (1,)) / '(1,)type'.\n",
      "  _np_qint16 = np.dtype([(\"qint16\", np.int16, 1)])\n",
      "/home/jwrickman/.local/lib/python3.6/site-packages/tensorflow/python/framework/dtypes.py:522: FutureWarning: Passing (type, 1) or '1type' as a synonym of type is deprecated; in a future version of numpy, it will be understood as (type, (1,)) / '(1,)type'.\n",
      "  _np_quint16 = np.dtype([(\"quint16\", np.uint16, 1)])\n",
      "/home/jwrickman/.local/lib/python3.6/site-packages/tensorflow/python/framework/dtypes.py:523: FutureWarning: Passing (type, 1) or '1type' as a synonym of type is deprecated; in a future version of numpy, it will be understood as (type, (1,)) / '(1,)type'.\n",
      "  _np_qint32 = np.dtype([(\"qint32\", np.int32, 1)])\n",
      "/home/jwrickman/.local/lib/python3.6/site-packages/tensorflow/python/framework/dtypes.py:528: FutureWarning: Passing (type, 1) or '1type' as a synonym of type is deprecated; in a future version of numpy, it will be understood as (type, (1,)) / '(1,)type'.\n",
      "  np_resource = np.dtype([(\"resource\", np.ubyte, 1)])\n"
     ]
    },
    {
     "name": "stdout",
     "output_type": "stream",
     "text": [
      "    age    fnlwgt  education-num  capital-gain  capital-loss  hours-per-week  \\\n",
      "0  25.0  226802.0            7.0           0.0           0.0            40.0   \n",
      "1  38.0   89814.0            9.0           0.0           0.0            50.0   \n",
      "2  28.0  336951.0           12.0           0.0           0.0            40.0   \n",
      "3  44.0  160323.0           10.0        7688.0           0.0            40.0   \n",
      "4  18.0  103497.0           10.0           0.0           0.0            30.0   \n",
      "\n",
      "   workclass_Private  workclass_Self-emp-not-inc  workclass_Self-emp-inc  \\\n",
      "0                  1                           0                       0   \n",
      "1                  1                           0                       0   \n",
      "2                  0                           0                       0   \n",
      "3                  1                           0                       0   \n",
      "4                  0                           0                       0   \n",
      "\n",
      "   workclass_Federal-gov  ...  native-country_Guatemala  \\\n",
      "0                      0  ...                         0   \n",
      "1                      0  ...                         0   \n",
      "2                      0  ...                         0   \n",
      "3                      0  ...                         0   \n",
      "4                      0  ...                         0   \n",
      "\n",
      "   native-country_Nicaragua  native-country_Scotland  native-country_Thailand  \\\n",
      "0                         0                        0                        0   \n",
      "1                         0                        0                        0   \n",
      "2                         0                        0                        0   \n",
      "3                         0                        0                        0   \n",
      "4                         0                        0                        0   \n",
      "\n",
      "   native-country_Yugoslavia  native-country_El-Salvador  \\\n",
      "0                          0                           0   \n",
      "1                          0                           0   \n",
      "2                          0                           0   \n",
      "3                          0                           0   \n",
      "4                          0                           0   \n",
      "\n",
      "   native-country_Trinadad&Tobago  native-country_Peru  native-country_Hong  \\\n",
      "0                               0                    0                    0   \n",
      "1                               0                    0                    0   \n",
      "2                               0                    0                    0   \n",
      "3                               0                    0                    0   \n",
      "4                               0                    0                    0   \n",
      "\n",
      "   native-country_Holand-Netherlands  \n",
      "0                                  0  \n",
      "1                                  0  \n",
      "2                                  0  \n",
      "3                                  0  \n",
      "4                                  0  \n",
      "\n",
      "[5 rows x 105 columns]\n"
     ]
    }
   ],
   "source": [
    "import tensorflow as tf\n",
    "import numpy as np\n",
    "import pandas as pd\n",
    "import matplotlib.pyplot as plt\n",
    "from sklearn.datasets import fetch_openml\n",
    "\n",
    "tf.enable_eager_execution()\n",
    "\n",
    "\n",
    "\n",
    "data = fetch_openml(data_id=1590, as_frame=True)\n",
    "X = pd.get_dummies(data.data)\n",
    "y_true = (data.target == '>50K') * 1\n",
    "\n",
    "\n",
    "print(X.head())\n"
   ]
  },
  {
   "cell_type": "code",
   "execution_count": 2,
   "id": "c575de13",
   "metadata": {},
   "outputs": [],
   "source": [
    "from sklearn.metrics import accuracy_score\n",
    "from sklearn.tree import DecisionTreeClassifier\n",
    "\n",
    "\n",
    "classifier = DecisionTreeClassifier(min_samples_leaf=10, max_depth=4)\n",
    "classifier.fit(X, y_true)\n",
    "y_pred = classifier.predict(X)"
   ]
  },
  {
   "cell_type": "code",
   "execution_count": 25,
   "id": "6208e4f3",
   "metadata": {},
   "outputs": [
    {
     "name": "stdout",
     "output_type": "stream",
     "text": [
      "0.8443552680070431\n",
      "sex\n",
      "Female    0.925148\n",
      "Male      0.804288\n",
      "Name: accuracy_score, dtype: float64\n"
     ]
    }
   ],
   "source": [
    "from fairlearn.metrics import MetricFrame\n",
    "from sklearn.metrics import accuracy_score\n",
    "\n",
    "sex = data.data['sex']\n",
    "gm = MetricFrame(metrics=accuracy_score, y_true=y_true, y_pred=y_pred, sensitive_features=sex)\n",
    "print(gm.overall)\n",
    "print(gm.by_group)\n"
   ]
  },
  {
   "cell_type": "code",
   "execution_count": 4,
   "id": "a4a77c03",
   "metadata": {},
   "outputs": [
    {
     "name": "stdout",
     "output_type": "stream",
     "text": [
      "here\n"
     ]
    }
   ],
   "source": [
    "def df_to_dataset(dataframe, shuffle=True, batch_size=32):\n",
    "  df = pd.get_dummies(dataframe.data)\n",
    "  labels = (dataframe.target == '>50K') * 1\n",
    "\n",
    "  ds = tf.data.Dataset.from_tensors((np.array([df[col] for col in df.columns]).T, labels))\n",
    "  print(\"here\")\n",
    "  if shuffle:\n",
    "    ds = ds.shuffle(buffer_size=len(dataframe))\n",
    "  ds = ds.batch(batch_size)\n",
    "  ds = ds.prefetch(batch_size)\n",
    "  return ds\n",
    "\n",
    "df = pd.get_dummies(data.data)\n",
    "\n",
    "batch_size = 5\n",
    "train_ds = df_to_dataset(data, batch_size=batch_size)"
   ]
  },
  {
   "cell_type": "code",
   "execution_count": 13,
   "id": "f1faadba",
   "metadata": {},
   "outputs": [],
   "source": [
    "\n",
    "\n",
    "model = tf.keras.Sequential([\n",
    "    tf.keras.layers.Dense(32, activation='relu', input_shape=(105, )),\n",
    "    tf.keras.layers.Dropout(0.5),\n",
    "    tf.keras.layers.Dense(2)\n",
    "])"
   ]
  },
  {
   "cell_type": "code",
   "execution_count": 14,
   "id": "b251a4fc",
   "metadata": {},
   "outputs": [],
   "source": [
    "model.compile(optimizer=tf.train.AdamOptimizer(),\n",
    "              loss='binary_crossentropy',\n",
    "              metrics=['accuracy'])"
   ]
  },
  {
   "cell_type": "code",
   "execution_count": 19,
   "id": "429b14c7",
   "metadata": {},
   "outputs": [
    {
     "name": "stdout",
     "output_type": "stream",
     "text": [
      "Epoch 1/2\n",
      "48842/48842 [==============================] - 33s 668us/step - loss: 1.2522 - acc: 0.3404\n",
      "Epoch 2/2\n",
      "48842/48842 [==============================] - 31s 643us/step - loss: 1.0528 - acc: 0.3529\n"
     ]
    },
    {
     "data": {
      "text/plain": [
       "<tensorflow.python.keras._impl.keras.callbacks.History at 0x7fd0c34ca240>"
      ]
     },
     "execution_count": 19,
     "metadata": {},
     "output_type": "execute_result"
    }
   ],
   "source": [
    "df = pd.get_dummies(data.data)\n",
    "y_train = (data.target == '>50K') * 1\n",
    "b = np.zeros((y_train.size, y_train.max()+1))\n",
    "b[np.arange(y_train.size),y_train] = 1\n",
    "\n",
    "x_train = np.array([df[col] for col in df.columns]).T\n",
    "x_train = (x_train - np.mean(x_train, axis=0)) / np.std(x_train, axis=0)\n",
    "model.fit(x=x_train, y=b, epochs=2)"
   ]
  },
  {
   "cell_type": "code",
   "execution_count": 20,
   "id": "bded6ffb",
   "metadata": {},
   "outputs": [],
   "source": [
    "predictions = model.predict(x_train)\n"
   ]
  },
  {
   "cell_type": "code",
   "execution_count": 21,
   "id": "c8d1f880",
   "metadata": {},
   "outputs": [
    {
     "name": "stdout",
     "output_type": "stream",
     "text": [
      "(48842,)\n"
     ]
    }
   ],
   "source": [
    "predictions = tf.argmax(predictions, axis=1)\n",
    "print(predictions.shape)\n",
    "gm = MetricFrame(metrics=accuracy_score, y_true=y_true, y_pred=predictions, sensitive_features=sex)"
   ]
  },
  {
   "cell_type": "code",
   "execution_count": 24,
   "id": "e35a52e9",
   "metadata": {},
   "outputs": [
    {
     "name": "stdout",
     "output_type": "stream",
     "text": [
      "0.8319069653167356\n",
      "sex\n",
      "Female    0.909523\n",
      "Male      0.793415\n",
      "Name: accuracy_score, dtype: float64\n"
     ]
    }
   ],
   "source": [
    "print(gm.overall)\n",
    "print(gm.by_group)"
   ]
  },
  {
   "cell_type": "code",
   "execution_count": null,
   "id": "b8352bbf",
   "metadata": {},
   "outputs": [],
   "source": []
  }
 ],
 "metadata": {
  "kernelspec": {
   "display_name": "Python 3",
   "language": "python",
   "name": "python3"
  },
  "language_info": {
   "codemirror_mode": {
    "name": "ipython",
    "version": 3
   },
   "file_extension": ".py",
   "mimetype": "text/x-python",
   "name": "python",
   "nbconvert_exporter": "python",
   "pygments_lexer": "ipython3",
   "version": "3.6.9"
  }
 },
 "nbformat": 4,
 "nbformat_minor": 5
}
